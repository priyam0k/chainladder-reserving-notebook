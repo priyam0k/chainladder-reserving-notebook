{
 "cells": [
  {
   "cell_type": "markdown",
   "metadata": {},
   "source": [
    "# P&C Chain-Ladder Reserving Model\n",
    "\n",
    "This notebook implements a basic Property & Casualty reserving model using the chain-ladder method. It follows a seven-step process to forecast ultimate claims and calculate the IBNR (Incurred But Not Reported) reserve."
   ]
  },
  {
   "cell_type": "code",
   "execution_count": null,
   "metadata": {},
   "outputs": [],
   "source": [
    "import pandas as pd\n",
    "import numpy as np\n",
    "import matplotlib.pyplot as plt\n",
    "import seaborn as sns\n",
    "\n",
    "# Set plot style\n",
    "sns.set_style(\"whitegrid\")"
   ]
  },
  {
   "cell_type": "markdown",
   "metadata": {},
   "source": [
    "## Step 1 & 2: Data Collection, Preparation, and Triangle Compilation\n",
    "\n",
    "We begin by defining the cumulative loss development triangle. In a real-world scenario, this data would be collected, cleaned, and aggregated. For this demonstration, we use a pre-compiled triangle.\n",
    "\n",
    "- **Rows**: Accident Years\n",
    "- **Columns**: Development Periods (in months)"
   ]
  },
  {
   "cell_type": "code",
   "execution_count": null,
   "metadata": {},
   "outputs": [],
   "source": [
    "data = {\n",
    "    'accident_year': [2021, 2022, 2023, 2024],\n",
    "    12: [10000, 12000, 15000, 18000],\n",
    "    24: [17500, 20400, 27000, np.nan],\n",
    "    36: [21000, 25500, np.nan, np.nan],\n",
    "    48: [22050, np.nan, np.nan, np.nan]\n",
    "}\n",
    "loss_triangle = pd.DataFrame(data).set_index('accident_year')\n",
    "\n",
    "print(\"Cumulative Loss Development Triangle (in thousands):\")\n",
    "loss_triangle"
   ]
  },
  {
   "cell_type": "markdown",
   "metadata": {},
   "source": [
    "### Visualization: Loss Development Triangle Heatmap\n",
    "\n",
    "A heatmap helps visualize the growth of cumulative losses across accident years and development periods. The intensity of the color represents the magnitude of the losses."
   ]
  },
  {
   "cell_type": "code",
   "execution_count": null,
   "metadata": {},
   "outputs": [],
   "source": [
    "plt.figure(figsize=(10, 6))\n",
    "sns.heatmap(loss_triangle, annot=True, fmt=\",.0f\", cmap=\"crest\", linewidths=.5)\n",
    "plt.title('Cumulative Loss Development Triangle Heatmap', fontsize=16)\n",
    "plt.xlabel('Development Period (Months)')\n",
    "plt.ylabel('Accident Year')\n",
    "plt.show()"
   ]
  },
  {
   "cell_type": "markdown",
   "metadata": {},
   "source": [
    "## Step 3: Calculate Age-to-Age (LDF) Factors\n",
    "\n",
    "We now calculate the Loss Development Factors (LDFs), also known as link ratios. These factors measure the growth of claims from one development period to the next.\n",
    "\n",
    "**Formula**: `LDF = Cumulative Losses at Period(n) / Cumulative Losses at Period(n-1)`"
   ]
  },
  {
   "cell_type": "code",
   "execution_count": null,
   "metadata": {},
   "outputs": [],
   "source": [
    "ldf_triangle = pd.DataFrame(index=loss_triangle.index)\n",
    "for i in range(len(loss_triangle.columns) - 1):\n",
    "    col_name = f\"{loss_triangle.columns[i]}-{loss_triangle.columns[i+1]}\"\n",
    "    ldf_triangle[col_name] = loss_triangle.iloc[:, i+1] / loss_triangle.iloc[:, i]\n",
    "\n",
    "print(\"Calculated Age-to-Age Factors (LDFs):\")\n",
    "ldf_triangle"
   ]
  },
  {
   "cell_type": "markdown",
   "metadata": {},
   "source": [
    "### Visualization: Age-to-Age Factors (LDFs)\n",
    "\n",
    "This plot shows the calculated LDFs for each development period. It helps in identifying trends or volatility in claim development patterns over time. We also plot the selected average LDF for comparison."
   ]
  },
  {
   "cell_type": "code",
   "execution_count": null,
   "metadata": {},
   "outputs": [],
   "source": [
    "plt.figure(figsize=(12, 7))\n",
    "for year in ldf_triangle.index:\n",
    "    plt.plot(ldf_triangle.columns, ldf_triangle.loc[year], marker='o', linestyle='--', label=f'AY {year}')\n",
    "\n",
    "# Plot the simple average for comparison\n",
    "plt.plot(ldf_triangle.columns, ldf_triangle.mean(), marker='x', linestyle='-', color='black', linewidth=2, markersize=8, label='Simple Average')\n",
    "\n",
    "plt.title('Age-to-Age Factors (LDFs) by Accident Year', fontsize=16)\n",
    "plt.xlabel('Development Period')\n",
    "plt.ylabel('Loss Development Factor')\n",
    "plt.legend()\n",
    "plt.show()"
   ]
  },
  {
   "cell_type": "markdown",
   "metadata": {},
   "source": [
    "## Step 4: Select Claim Development Factors\n",
    "\n",
    "Next, we select a single, representative LDF for each development column to be used for projections. For simplicity, we use the simple average. We also select a **tail factor** to project development beyond the observed periods."
   ]
  },
  {
   "cell_type": "code",
   "execution_count": null,
   "metadata": {},
   "outputs": [],
   "source": [
    "# Calculate simple average for each LDF column\n",
    "selected_ldfs = ldf_triangle.mean()\n",
    "\n",
    "# Select a tail factor (this is a judgmental step)\n",
    "tail_factor = 1.02\n",
    "selected_ldfs['48-Ultimate'] = tail_factor\n",
    "\n",
    "print(\"Selected Development Factors (Simple Average):\")\n",
    "selected_ldfs"
   ]
  },
  {
   "cell_type": "markdown",
   "metadata": {},
   "source": [
    "## Step 5: Calculate Cumulative Development Factors (CDFs)\n",
    "\n",
    "The selected LDFs are multiplied together (\"chained\") to calculate the Cumulative Development Factors (CDFs). The CDF represents the total expected development from a given age to its ultimate settlement."
   ]
  },
  {
   "cell_type": "code",
   "execution_count": null,
   "metadata": {},
   "outputs": [],
   "source": [
    "cdfs = pd.Series(index=selected_ldfs.index, dtype=float)\n",
    "cdfs.iloc[-1] = selected_ldfs.iloc[-1] # The last CDF is the tail factor\n",
    "\n",
    "# Calculate CDFs by working backward\n",
    "for i in range(len(selected_ldfs) - 2, -1, -1):\n",
    "    cdfs.iloc[i] = selected_ldfs.iloc[i] * cdfs.iloc[i+1]\n",
    "\n",
    "print(\"Cumulative Development Factors (CDFs):\")\n",
    "cdfs"
   ]
  },
  {
   "cell_type": "markdown",
   "metadata": {},
   "source": [
    "## Step 6: Project Ultimate Claims\n",
    "\n",
    "We use the CDFs to project the ultimate loss amount for each accident year by multiplying the latest available cumulative loss by its corresponding CDF.\n",
    "\n",
    "**Formula**: `Ultimate Loss = Latest Cumulative Loss * CDF`"
   ]
  },
  {
   "cell_type": "code",
   "execution_count": null,
   "metadata": {},
   "outputs": [],
   "source": [
    "# Get the latest available cumulative loss for each accident year (the diagonal)\n",
    "latest_losses = loss_triangle.ffill(axis=1).iloc[:, -1]\n",
    "\n",
    "# Create a results DataFrame\n",
    "results = pd.DataFrame({\n",
    "    'Latest Cumulative Loss': latest_losses,\n",
    "    'Development Age': [48, 36, 24, 12] # Manually set for clarity\n",
    "})\n",
    "\n",
    "# Map the correct CDF to each accident year\n",
    "age_to_cdf_map = {\n",
    "    48: cdfs['48-Ultimate'],\n",
    "    36: cdfs['36-48'],\n",
    "    24: cdfs['24-36'],\n",
    "    12: cdfs['12-24']\n",
    "}\n",
    "results['CDF'] = results['Development Age'].map(age_to_cdf_map)\n",
    "\n",
    "# Calculate projected ultimate loss\n",
    "results['Projected Ultimate Loss'] = results['Latest Cumulative Loss'] * results['CDF']\n",
    "\n",
    "print(\"Projection of Ultimate Claims:\")\n",
    "results"
   ]
  },
  {
   "cell_type": "markdown",
   "metadata": {},
   "source": [
    "## Step 7: Calculate the IBNR Reserve\n",
    "\n",
    "The final step is to calculate the IBNR reserve, which is the difference between the projected ultimate loss and the latest reported cumulative loss.\n",
    "\n",
    "**Formula**: `IBNR Reserve = Projected Ultimate Loss - Latest Cumulative Loss`"
   ]
  },
  {
   "cell_type": "code",
   "execution_count": null,
   "metadata": {},
   "outputs": [],
   "source": [
    "results['IBNR Reserve'] = results['Projected Ultimate Loss'] - results['Latest Cumulative Loss']\n",
    "\n",
    "print(\"Final IBNR Reserve Calculation:\")\n",
    "print(results)\n",
    "\n",
    "# Calculate and display the total reserve\n",
    "total_ibnr_reserve = results['IBNR Reserve'].sum()\n",
    "print('\\n' + '-'*40)\n",
    "print(f\"Total IBNR Reserve: {total_ibnr_reserve:,.0f}\")\n",
    "print('-'*40)"
   ]
  },
  {
   "cell_type": "markdown",
   "metadata": {},
   "source": [
    "### Visualization: Projected Ultimate Loss Components\n",
    "\n",
    "This stacked bar chart shows the composition of the projected ultimate loss for each accident year, breaking it down into the latest known losses and the calculated IBNR reserve."
   ]
  },
  {
   "cell_type": "code",
   "execution_count": null,
   "metadata": {},
   "outputs": [],
   "source": [
    "results_plot = results[['Latest Cumulative Loss', 'IBNR Reserve']]\n",
    "\n",
    "ax = results_plot.plot(kind='bar', stacked=True, figsize=(12, 7), colormap='viridis')\n",
    "\n",
    "plt.title('Projected Ultimate Loss by Accident Year', fontsize=16)\n",
    "plt.xlabel('Accident Year')\n",
    "plt.ylabel('Amount (in thousands)')\n",
    "plt.xticks(rotation=0)\n",
    "plt.legend(['Latest Cumulative Loss', 'IBNR Reserve'])\n",
    "\n",
    "# Add labels to the bars\n",
    "for c in ax.containers:\n",
    "    labels = [f'{v:,.0f}' for v in c.datavalues]\n",
    "    ax.bar_label(c, labels=labels, label_type='center')\n",
    "\n",
    "plt.show()"
   ]
  }
 ],
 "metadata": {
  "kernelspec": {
   "display_name": "Python 3",
   "language": "python",
   "name": "python3"
  },
  "language_info": {
   "codemirror_mode": {
    "name": "ipython",
    "version": 3
   },
   "file_extension": ".py",
   "mimetype": "text/x-python",
   "name": "python",
   "nbconvert_exporter": "python",
   "pygments_lexer": "ipython3",
   "version": "3.9.7"
  }
 },
 "nbformat": 4,
 "nbformat_minor": 4
}
